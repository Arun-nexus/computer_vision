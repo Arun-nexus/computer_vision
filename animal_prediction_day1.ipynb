{
  "nbformat": 4,
  "nbformat_minor": 0,
  "metadata": {
    "colab": {
      "provenance": [],
      "gpuType": "T4",
      "authorship_tag": "ABX9TyMOFjkcaaSbkSEHvQqDqqQr",
      "include_colab_link": true
    },
    "kernelspec": {
      "name": "python3",
      "display_name": "Python 3"
    },
    "language_info": {
      "name": "python"
    },
    "accelerator": "GPU"
  },
  "cells": [
    {
      "cell_type": "markdown",
      "metadata": {
        "id": "view-in-github",
        "colab_type": "text"
      },
      "source": [
        "<a href=\"https://colab.research.google.com/github/Arun-nexus/computer_vision/blob/main/animal_prediction_day1.ipynb\" target=\"_parent\"><img src=\"https://colab.research.google.com/assets/colab-badge.svg\" alt=\"Open In Colab\"/></a>"
      ]
    },
    {
      "cell_type": "code",
      "source": [
        "from google.colab import drive\n",
        "drive.mount(\"/content/drive\")"
      ],
      "metadata": {
        "colab": {
          "base_uri": "https://localhost:8080/"
        },
        "id": "rsivSDWgp1MG",
        "outputId": "e4b80a51-e136-4544-be87-6917854c93a0"
      },
      "execution_count": 1,
      "outputs": [
        {
          "output_type": "stream",
          "name": "stdout",
          "text": [
            "Drive already mounted at /content/drive; to attempt to forcibly remount, call drive.mount(\"/content/drive\", force_remount=True).\n"
          ]
        }
      ]
    },
    {
      "cell_type": "code",
      "source": [
        "!mkdir -p ~/.kaggle\n",
        "!cp /content/drive/MyDrive/kaggle/kaggle.json ~/.kaggle\n",
        "!chmod 600 ~/.kaggle/kaggle.json"
      ],
      "metadata": {
        "id": "oCIDmIsjp1Ot"
      },
      "execution_count": 2,
      "outputs": []
    },
    {
      "cell_type": "code",
      "source": [],
      "metadata": {
        "id": "WJ6pa8iw1L30"
      },
      "execution_count": 2,
      "outputs": []
    },
    {
      "cell_type": "code",
      "source": [
        "!kaggle datasets download -d sharansmenon/animals141"
      ],
      "metadata": {
        "colab": {
          "base_uri": "https://localhost:8080/"
        },
        "id": "dd6pd7icp1Q_",
        "outputId": "6bc6c2c6-2420-4e25-eed6-29bbaa3f11b2"
      },
      "execution_count": 3,
      "outputs": [
        {
          "output_type": "stream",
          "name": "stdout",
          "text": [
            "Dataset URL: https://www.kaggle.com/datasets/sharansmenon/animals141\n",
            "License(s): copyright-authors\n",
            "animals141.zip: Skipping, found more recently modified local copy (use --force to force download)\n"
          ]
        }
      ]
    },
    {
      "cell_type": "code",
      "source": [
        "import zipfile\n",
        "with zipfile.ZipFile(\"animals141.zip\",\"r\") as zip:\n",
        "  zip.extractall(\"animal\")"
      ],
      "metadata": {
        "id": "tdcSaww2p1S9"
      },
      "execution_count": 4,
      "outputs": []
    },
    {
      "cell_type": "code",
      "source": [],
      "metadata": {
        "id": "d-seQ0yiMHHa"
      },
      "execution_count": 4,
      "outputs": []
    },
    {
      "cell_type": "code",
      "source": [
        "from torchvision import transforms"
      ],
      "metadata": {
        "id": "MRGN8736p1V7"
      },
      "execution_count": 5,
      "outputs": []
    },
    {
      "cell_type": "code",
      "source": [
        "augmentation=transforms.Compose([\n",
        "    transforms.Resize((128,128)),\n",
        "    transforms.RandomRotation(15),\n",
        "    transforms.RandomHorizontalFlip(),\n",
        "    transforms.ToTensor()\n",
        "])"
      ],
      "metadata": {
        "id": "yFl3KxersW4K"
      },
      "execution_count": 6,
      "outputs": []
    },
    {
      "cell_type": "code",
      "source": [
        "from torch.utils.data import DataLoader\n",
        "from torchvision.datasets import ImageFolder"
      ],
      "metadata": {
        "id": "lGTscUA7tzs2"
      },
      "execution_count": 7,
      "outputs": []
    },
    {
      "cell_type": "code",
      "source": [
        "dataset=\"/content/animal/dataset/dataset\"\n",
        "training_data = ImageFolder(root=dataset,transform=augmentation)"
      ],
      "metadata": {
        "id": "jAr4Jo6luMxF"
      },
      "execution_count": 8,
      "outputs": []
    },
    {
      "cell_type": "code",
      "source": [
        "train_size=int(0.7*len(training_data))\n",
        "val_size=len(training_data)-train_size"
      ],
      "metadata": {
        "id": "JVU8koResWQD"
      },
      "execution_count": 9,
      "outputs": []
    },
    {
      "cell_type": "code",
      "source": [
        "from torch.utils.data import random_split"
      ],
      "metadata": {
        "id": "GHHEQjqXtYDa"
      },
      "execution_count": 10,
      "outputs": []
    },
    {
      "cell_type": "code",
      "source": [
        "train_data,val_data=random_split(training_data,[train_size,val_size])"
      ],
      "metadata": {
        "id": "uHaZ7aaCtJUG"
      },
      "execution_count": 11,
      "outputs": []
    },
    {
      "cell_type": "code",
      "source": [
        "train_loader=DataLoader(train_data,shuffle=True,batch_size=512,num_workers=2)\n",
        "val_loader=DataLoader(val_data,batch_size=512,num_workers=2)"
      ],
      "metadata": {
        "id": "LLjawJFntzI2"
      },
      "execution_count": 22,
      "outputs": []
    },
    {
      "cell_type": "code",
      "source": [
        "from torch import nn"
      ],
      "metadata": {
        "id": "LGt2VNAXtPeO"
      },
      "execution_count": 13,
      "outputs": []
    },
    {
      "cell_type": "code",
      "source": [
        "import torchvision.models as models"
      ],
      "metadata": {
        "id": "GU6iH-i0QQ_7"
      },
      "execution_count": 14,
      "outputs": []
    },
    {
      "cell_type": "code",
      "source": [
        "class animal_cnn(nn.Module):\n",
        "  def __init__(self,num_classes):\n",
        "    super(animal_cnn,self).__init__()\n",
        "    self.vgg19=models.vgg19(weights=models.VGG19_Weights.IMAGENET1K_V1)\n",
        "    for param in self.vgg19.features.parameters():\n",
        "      param.requires_grad=False\n",
        "\n",
        "    self.vgg19.classifier=nn.Sequential(\n",
        "      nn.Linear(25088,4096),\n",
        "      nn.ReLU(),\n",
        "      nn.Dropout(),\n",
        "      nn.Linear(4096,1024),\n",
        "      nn.ReLU(),\n",
        "      nn.Dropout(),\n",
        "      nn.Linear(1024,151)\n",
        "    )\n",
        "  def forward(self,x):\n",
        "    return self.vgg19(x)"
      ],
      "metadata": {
        "id": "Elxi6yqMtnF4"
      },
      "execution_count": 15,
      "outputs": []
    },
    {
      "cell_type": "code",
      "source": [
        "import torch"
      ],
      "metadata": {
        "id": "fW_RZktKz69s"
      },
      "execution_count": 16,
      "outputs": []
    },
    {
      "cell_type": "code",
      "source": [
        "device=torch.device(\"cuda\" if torch.cuda.is_available() else \"cpu\")\n",
        "print(device)"
      ],
      "metadata": {
        "colab": {
          "base_uri": "https://localhost:8080/"
        },
        "id": "ynG8KTu7zwQU",
        "outputId": "8e5c314f-cf43-4239-9fcb-7a2f2ebb3f50"
      },
      "execution_count": 17,
      "outputs": [
        {
          "output_type": "stream",
          "name": "stdout",
          "text": [
            "cuda\n"
          ]
        }
      ]
    },
    {
      "cell_type": "code",
      "source": [
        "from torch.optim.lr_scheduler import ReduceLROnPlateau"
      ],
      "metadata": {
        "id": "84zXV6bmP-Ch"
      },
      "execution_count": 18,
      "outputs": []
    },
    {
      "cell_type": "code",
      "source": [
        "model=animal_cnn(num_classes=151).to(device)\n",
        "model_loss=nn.CrossEntropyLoss()\n",
        "optim=torch.optim.Adam(model.parameters(),lr=1e-4)\n",
        "scheduler=ReduceLROnPlateau(optim,mode=\"min\",patience=2)"
      ],
      "metadata": {
        "id": "ZwRB6GLmywZN"
      },
      "execution_count": 19,
      "outputs": []
    },
    {
      "cell_type": "code",
      "source": [
        "class earlystopping():\n",
        "  def __init__(self,min_delta,patience=3):\n",
        "    self.patience=patience\n",
        "    self.min_delta=min_delta\n",
        "    self.early_stop=False\n",
        "    self.best_loss=float(\"inf\")\n",
        "    self.counter=0\n",
        "\n",
        "  def __call__(self,val_loss):\n",
        "    if val_loss < self.best_loss - self.min_delta:\n",
        "      self.best_loss=val_loss\n",
        "      self.counter=0\n",
        "    else:\n",
        "      self.counter+=1\n",
        "      if self.counter>=self.patience:\n",
        "        self.early_stop=True"
      ],
      "metadata": {
        "id": "nvb8amj30Bh5"
      },
      "execution_count": 20,
      "outputs": []
    },
    {
      "cell_type": "code",
      "source": [
        "epochs = 50\n",
        "training_loss = []\n",
        "accuracy = []\n",
        "val_losses = []\n",
        "val_accuracy = []\n",
        "\n",
        "earlystopping_callback = earlystopping(min_delta=0.01, patience=5)\n",
        "\n",
        "for epoch in range(epochs):\n",
        "    model.train()\n",
        "    running_loss = 0\n",
        "    mcorrect, mtotal = 0, 0\n",
        "\n",
        "    for images, labels in train_loader:\n",
        "        images, labels = images.to(device), labels.to(device)\n",
        "\n",
        "        outputs = model(images)\n",
        "        loss = model_loss(outputs, labels)\n",
        "\n",
        "        optim.zero_grad()\n",
        "        loss.backward()\n",
        "        optim.step()\n",
        "\n",
        "        running_loss += loss.item()\n",
        "\n",
        "        _, preds = torch.max(outputs, 1)\n",
        "        mcorrect += (preds == labels).sum().item()\n",
        "        mtotal += labels.size(0)\n",
        "\n",
        "    train_loss = running_loss / len(train_loader)\n",
        "    acc = 100 * mcorrect / mtotal\n",
        "    training_loss.append(train_loss)\n",
        "    accuracy.append(acc)\n",
        "\n",
        "    model.eval()\n",
        "    val_running_loss = 0\n",
        "    correct, total = 0, 0\n",
        "\n",
        "    with torch.no_grad():\n",
        "        for images, labels in val_loader:\n",
        "            images, labels = images.to(device), labels.to(device)\n",
        "            outputs = model(images)\n",
        "            v_loss = model_loss(outputs, labels)\n",
        "\n",
        "            val_running_loss += v_loss.item()\n",
        "            _, predicted = torch.max(outputs, 1)\n",
        "            correct += (predicted == labels).sum().item()\n",
        "            total += labels.size(0)\n",
        "\n",
        "    val_loss = val_running_loss / len(val_loader)\n",
        "    val_acc = 100 * correct / total\n",
        "    val_losses.append(val_loss)\n",
        "    val_accuracy.append(val_acc)\n",
        "\n",
        "    print(f\"Epoch {epoch+1}: Train Acc={acc:.2f}%, Train Loss={train_loss:.4f} | Val Acc={val_acc:.2f}%, Val Loss={val_loss:.4f}\")\n",
        "\n",
        "    earlystopping_callback(val_loss)\n",
        "    if earlystopping_callback.early_stop:\n",
        "        print(\"Early stopping triggered\")\n",
        "        break"
      ],
      "metadata": {
        "id": "lGr9buHE2JuW",
        "colab": {
          "base_uri": "https://localhost:8080/"
        },
        "outputId": "6e01a523-b463-440e-98aa-21d6f17ccfe4"
      },
      "execution_count": 23,
      "outputs": [
        {
          "output_type": "stream",
          "name": "stdout",
          "text": [
            "Epoch 1: Train Acc=6.61%, Train Loss=4.7260 | Val Acc=20.73%, Val Loss=4.2564\n",
            "Epoch 2: Train Acc=17.25%, Train Loss=4.0071 | Val Acc=31.15%, Val Loss=3.5068\n",
            "Epoch 3: Train Acc=25.93%, Train Loss=3.4521 | Val Acc=38.22%, Val Loss=2.9750\n",
            "Epoch 4: Train Acc=35.25%, Train Loss=2.9556 | Val Acc=43.17%, Val Loss=2.6144\n",
            "Epoch 5: Train Acc=40.26%, Train Loss=2.6115 | Val Acc=49.60%, Val Loss=2.3370\n",
            "Epoch 6: Train Acc=45.45%, Train Loss=2.3367 | Val Acc=51.36%, Val Loss=2.1787\n",
            "Epoch 7: Train Acc=48.39%, Train Loss=2.1590 | Val Acc=52.84%, Val Loss=2.0701\n",
            "Epoch 8: Train Acc=52.29%, Train Loss=1.9763 | Val Acc=54.44%, Val Loss=1.9654\n",
            "Epoch 9: Train Acc=56.07%, Train Loss=1.8053 | Val Acc=54.60%, Val Loss=1.9012\n",
            "Epoch 10: Train Acc=59.13%, Train Loss=1.6811 | Val Acc=56.14%, Val Loss=1.8098\n",
            "Epoch 11: Train Acc=59.10%, Train Loss=1.6339 | Val Acc=56.94%, Val Loss=1.8050\n",
            "Epoch 12: Train Acc=62.91%, Train Loss=1.5213 | Val Acc=57.04%, Val Loss=1.7397\n",
            "Epoch 13: Train Acc=64.02%, Train Loss=1.4417 | Val Acc=57.31%, Val Loss=1.7235\n",
            "Epoch 14: Train Acc=65.09%, Train Loss=1.3675 | Val Acc=58.27%, Val Loss=1.6410\n",
            "Epoch 15: Train Acc=66.69%, Train Loss=1.3168 | Val Acc=58.43%, Val Loss=1.6634\n",
            "Epoch 16: Train Acc=69.13%, Train Loss=1.2212 | Val Acc=60.23%, Val Loss=1.6275\n",
            "Epoch 17: Train Acc=69.65%, Train Loss=1.1812 | Val Acc=60.77%, Val Loss=1.5874\n",
            "Epoch 18: Train Acc=70.45%, Train Loss=1.1396 | Val Acc=59.49%, Val Loss=1.6024\n",
            "Epoch 19: Train Acc=73.57%, Train Loss=1.0539 | Val Acc=60.02%, Val Loss=1.5725\n",
            "Epoch 20: Train Acc=73.62%, Train Loss=1.0092 | Val Acc=60.82%, Val Loss=1.5683\n",
            "Epoch 21: Train Acc=74.32%, Train Loss=0.9936 | Val Acc=61.03%, Val Loss=1.5386\n",
            "Epoch 22: Train Acc=75.69%, Train Loss=0.9495 | Val Acc=60.93%, Val Loss=1.5255\n",
            "Epoch 23: Train Acc=76.85%, Train Loss=0.8901 | Val Acc=59.22%, Val Loss=1.5587\n",
            "Epoch 24: Train Acc=78.13%, Train Loss=0.8384 | Val Acc=61.03%, Val Loss=1.4955\n",
            "Epoch 25: Train Acc=78.86%, Train Loss=0.8190 | Val Acc=62.09%, Val Loss=1.4873\n",
            "Epoch 26: Train Acc=78.88%, Train Loss=0.8029 | Val Acc=61.08%, Val Loss=1.5237\n",
            "Epoch 27: Train Acc=79.38%, Train Loss=0.7803 | Val Acc=61.24%, Val Loss=1.5083\n",
            "Epoch 28: Train Acc=80.91%, Train Loss=0.7491 | Val Acc=61.19%, Val Loss=1.5025\n",
            "Epoch 29: Train Acc=81.98%, Train Loss=0.6798 | Val Acc=62.47%, Val Loss=1.4566\n",
            "Epoch 30: Train Acc=83.07%, Train Loss=0.6701 | Val Acc=61.62%, Val Loss=1.4746\n",
            "Epoch 31: Train Acc=82.30%, Train Loss=0.6652 | Val Acc=62.25%, Val Loss=1.4937\n",
            "Epoch 32: Train Acc=83.19%, Train Loss=0.6285 | Val Acc=62.25%, Val Loss=1.4776\n",
            "Epoch 33: Train Acc=84.35%, Train Loss=0.6032 | Val Acc=61.67%, Val Loss=1.4695\n",
            "Epoch 34: Train Acc=85.35%, Train Loss=0.5744 | Val Acc=63.16%, Val Loss=1.4633\n",
            "Early stopping triggered\n"
          ]
        }
      ]
    },
    {
      "cell_type": "code",
      "source": [
        "import torch\n",
        "\n",
        "torch.save(model, \"animal_cnn_vgg19.pth\")\n"
      ],
      "metadata": {
        "id": "Xums1fYeqCu2"
      },
      "execution_count": 24,
      "outputs": []
    },
    {
      "cell_type": "code",
      "source": [
        "from google.colab import files\n",
        "\n",
        "files.download(\"animal_cnn_vgg19.pth\")\n"
      ],
      "metadata": {
        "colab": {
          "base_uri": "https://localhost:8080/",
          "height": 34
        },
        "id": "cm8WHDcYmctf",
        "outputId": "83cb0e3a-b864-4771-b35a-480873389e1e"
      },
      "execution_count": 26,
      "outputs": [
        {
          "output_type": "display_data",
          "data": {
            "text/plain": [
              "<IPython.core.display.Javascript object>"
            ],
            "application/javascript": [
              "\n",
              "    async function download(id, filename, size) {\n",
              "      if (!google.colab.kernel.accessAllowed) {\n",
              "        return;\n",
              "      }\n",
              "      const div = document.createElement('div');\n",
              "      const label = document.createElement('label');\n",
              "      label.textContent = `Downloading \"${filename}\": `;\n",
              "      div.appendChild(label);\n",
              "      const progress = document.createElement('progress');\n",
              "      progress.max = size;\n",
              "      div.appendChild(progress);\n",
              "      document.body.appendChild(div);\n",
              "\n",
              "      const buffers = [];\n",
              "      let downloaded = 0;\n",
              "\n",
              "      const channel = await google.colab.kernel.comms.open(id);\n",
              "      // Send a message to notify the kernel that we're ready.\n",
              "      channel.send({})\n",
              "\n",
              "      for await (const message of channel.messages) {\n",
              "        // Send a message to notify the kernel that we're ready.\n",
              "        channel.send({})\n",
              "        if (message.buffers) {\n",
              "          for (const buffer of message.buffers) {\n",
              "            buffers.push(buffer);\n",
              "            downloaded += buffer.byteLength;\n",
              "            progress.value = downloaded;\n",
              "          }\n",
              "        }\n",
              "      }\n",
              "      const blob = new Blob(buffers, {type: 'application/binary'});\n",
              "      const a = document.createElement('a');\n",
              "      a.href = window.URL.createObjectURL(blob);\n",
              "      a.download = filename;\n",
              "      div.appendChild(a);\n",
              "      a.click();\n",
              "      div.remove();\n",
              "    }\n",
              "  "
            ]
          },
          "metadata": {}
        },
        {
          "output_type": "display_data",
          "data": {
            "text/plain": [
              "<IPython.core.display.Javascript object>"
            ],
            "application/javascript": [
              "download(\"download_0181ce03-bc4d-40dd-85c1-be10af66d355\", \"animal_cnn_vgg19.pth\", 508581885)"
            ]
          },
          "metadata": {}
        }
      ]
    },
    {
      "cell_type": "code",
      "source": [
        "from google.colab import files\n",
        "new_data=files.upload()"
      ],
      "metadata": {
        "id": "nstlFn1U7k8X"
      },
      "execution_count": null,
      "outputs": []
    },
    {
      "cell_type": "code",
      "source": [
        "from PIL import Image"
      ],
      "metadata": {
        "id": "Ggs4pySLA7-t"
      },
      "execution_count": null,
      "outputs": []
    },
    {
      "cell_type": "code",
      "source": [
        "new_image=Image.open(\"/content/download (1).jpg\")"
      ],
      "metadata": {
        "id": "lgwZxpiKBK_D"
      },
      "execution_count": null,
      "outputs": []
    },
    {
      "cell_type": "code",
      "source": [
        "import matplotlib.pyplot as plt\n",
        "plt.imshow(new_image)"
      ],
      "metadata": {
        "id": "3lTIYmW8BWyb"
      },
      "execution_count": null,
      "outputs": []
    },
    {
      "cell_type": "code",
      "source": [
        "transform = transforms.Compose([\n",
        "    transforms.Resize((128, 128)),\n",
        "    transforms.ToTensor()\n",
        "])\n",
        "\n",
        "new_image_tensor =(transform(new_image).unsqueeze(0)).to(device)"
      ],
      "metadata": {
        "id": "nsifBG4UBdiH"
      },
      "execution_count": null,
      "outputs": []
    },
    {
      "cell_type": "code",
      "source": [
        "model.eval()\n",
        "with torch.no_grad():\n",
        "  out=model(new_image_tensor)\n",
        "  idx=torch.max(out,1).indices.item()\n",
        "name=training_data.classes[idx]"
      ],
      "metadata": {
        "id": "I7D-g42yBns9"
      },
      "execution_count": null,
      "outputs": []
    },
    {
      "cell_type": "code",
      "source": [],
      "metadata": {
        "id": "PSjpjcufMeGB"
      },
      "execution_count": null,
      "outputs": []
    },
    {
      "cell_type": "code",
      "metadata": {
        "id": "d21ad876"
      },
      "source": [
        "import json\n",
        "\n",
        "file_path = \"/content/animal/translation.json\"\n",
        "\n",
        "with open(file_path, 'r') as f:\n",
        "  translation_data = json.load(f)\n",
        "  dictionary=translation_data\n",
        "  print(dictionary)"
      ],
      "execution_count": null,
      "outputs": []
    },
    {
      "cell_type": "code",
      "source": [
        "for i in dictionary:\n",
        "  if i==name:\n",
        "    print(dictionary[i])\n"
      ],
      "metadata": {
        "id": "BtW1JIOBOWVU"
      },
      "execution_count": null,
      "outputs": []
    },
    {
      "cell_type": "code",
      "source": [],
      "metadata": {
        "id": "XEVd69O9OMg8"
      },
      "execution_count": null,
      "outputs": []
    }
  ]
}